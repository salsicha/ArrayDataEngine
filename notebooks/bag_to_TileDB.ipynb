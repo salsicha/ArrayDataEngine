version https://git-lfs.github.com/spec/v1
oid sha256:b136719c51542064fd311c39e04a49b649e450e55c67dbc87b93c3113d14aad7
size 59774
