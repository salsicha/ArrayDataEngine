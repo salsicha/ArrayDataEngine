version https://git-lfs.github.com/spec/v1
oid sha256:6cd9cc6ab52cbf9b52646ebd128fbcf1f5740a8d11fd65c6a0420f748172c20b
size 10379
